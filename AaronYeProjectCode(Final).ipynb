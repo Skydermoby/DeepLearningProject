{
  "nbformat": 4,
  "nbformat_minor": 0,
  "metadata": {
    "colab": {
      "provenance": [],
      "gpuType": "T4"
    },
    "kernelspec": {
      "name": "python3",
      "display_name": "Python 3"
    },
    "language_info": {
      "name": "python"
    },
    "accelerator": "GPU"
  },
  "cells": [
    {
      "cell_type": "markdown",
      "source": [
        "#Aaron Ye's Final Code\n",
        "Includes final code and any additional variations that were used or mentioned in the paper"
      ],
      "metadata": {
        "id": "8PRgv0fLu--i"
      }
    },
    {
      "cell_type": "code",
      "execution_count": 32,
      "metadata": {
        "colab": {
          "base_uri": "https://localhost:8080/"
        },
        "id": "k7_Kjo0bu31B",
        "outputId": "12e4e9d7-b1ed-4008-b413-2ebaf0e2d56d"
      },
      "outputs": [
        {
          "output_type": "stream",
          "name": "stdout",
          "text": [
            "Requirement already satisfied: datasets in /usr/local/lib/python3.11/dist-packages (3.6.0)\n",
            "Requirement already satisfied: filelock in /usr/local/lib/python3.11/dist-packages (from datasets) (3.18.0)\n",
            "Requirement already satisfied: numpy>=1.17 in /usr/local/lib/python3.11/dist-packages (from datasets) (2.0.2)\n",
            "Requirement already satisfied: pyarrow>=15.0.0 in /usr/local/lib/python3.11/dist-packages (from datasets) (18.1.0)\n",
            "Requirement already satisfied: dill<0.3.9,>=0.3.0 in /usr/local/lib/python3.11/dist-packages (from datasets) (0.3.8)\n",
            "Requirement already satisfied: pandas in /usr/local/lib/python3.11/dist-packages (from datasets) (2.2.2)\n",
            "Requirement already satisfied: requests>=2.32.2 in /usr/local/lib/python3.11/dist-packages (from datasets) (2.32.3)\n",
            "Requirement already satisfied: tqdm>=4.66.3 in /usr/local/lib/python3.11/dist-packages (from datasets) (4.67.1)\n",
            "Requirement already satisfied: xxhash in /usr/local/lib/python3.11/dist-packages (from datasets) (3.5.0)\n",
            "Requirement already satisfied: multiprocess<0.70.17 in /usr/local/lib/python3.11/dist-packages (from datasets) (0.70.16)\n",
            "Requirement already satisfied: fsspec<=2025.3.0,>=2023.1.0 in /usr/local/lib/python3.11/dist-packages (from fsspec[http]<=2025.3.0,>=2023.1.0->datasets) (2025.3.0)\n",
            "Requirement already satisfied: huggingface-hub>=0.24.0 in /usr/local/lib/python3.11/dist-packages (from datasets) (0.30.2)\n",
            "Requirement already satisfied: packaging in /usr/local/lib/python3.11/dist-packages (from datasets) (24.2)\n",
            "Requirement already satisfied: pyyaml>=5.1 in /usr/local/lib/python3.11/dist-packages (from datasets) (6.0.2)\n",
            "Requirement already satisfied: aiohttp!=4.0.0a0,!=4.0.0a1 in /usr/local/lib/python3.11/dist-packages (from fsspec[http]<=2025.3.0,>=2023.1.0->datasets) (3.11.15)\n",
            "Requirement already satisfied: typing-extensions>=3.7.4.3 in /usr/local/lib/python3.11/dist-packages (from huggingface-hub>=0.24.0->datasets) (4.13.2)\n",
            "Requirement already satisfied: charset-normalizer<4,>=2 in /usr/local/lib/python3.11/dist-packages (from requests>=2.32.2->datasets) (3.4.1)\n",
            "Requirement already satisfied: idna<4,>=2.5 in /usr/local/lib/python3.11/dist-packages (from requests>=2.32.2->datasets) (3.10)\n",
            "Requirement already satisfied: urllib3<3,>=1.21.1 in /usr/local/lib/python3.11/dist-packages (from requests>=2.32.2->datasets) (2.4.0)\n",
            "Requirement already satisfied: certifi>=2017.4.17 in /usr/local/lib/python3.11/dist-packages (from requests>=2.32.2->datasets) (2025.4.26)\n",
            "Requirement already satisfied: python-dateutil>=2.8.2 in /usr/local/lib/python3.11/dist-packages (from pandas->datasets) (2.9.0.post0)\n",
            "Requirement already satisfied: pytz>=2020.1 in /usr/local/lib/python3.11/dist-packages (from pandas->datasets) (2025.2)\n",
            "Requirement already satisfied: tzdata>=2022.7 in /usr/local/lib/python3.11/dist-packages (from pandas->datasets) (2025.2)\n",
            "Requirement already satisfied: aiohappyeyeballs>=2.3.0 in /usr/local/lib/python3.11/dist-packages (from aiohttp!=4.0.0a0,!=4.0.0a1->fsspec[http]<=2025.3.0,>=2023.1.0->datasets) (2.6.1)\n",
            "Requirement already satisfied: aiosignal>=1.1.2 in /usr/local/lib/python3.11/dist-packages (from aiohttp!=4.0.0a0,!=4.0.0a1->fsspec[http]<=2025.3.0,>=2023.1.0->datasets) (1.3.2)\n",
            "Requirement already satisfied: attrs>=17.3.0 in /usr/local/lib/python3.11/dist-packages (from aiohttp!=4.0.0a0,!=4.0.0a1->fsspec[http]<=2025.3.0,>=2023.1.0->datasets) (25.3.0)\n",
            "Requirement already satisfied: frozenlist>=1.1.1 in /usr/local/lib/python3.11/dist-packages (from aiohttp!=4.0.0a0,!=4.0.0a1->fsspec[http]<=2025.3.0,>=2023.1.0->datasets) (1.6.0)\n",
            "Requirement already satisfied: multidict<7.0,>=4.5 in /usr/local/lib/python3.11/dist-packages (from aiohttp!=4.0.0a0,!=4.0.0a1->fsspec[http]<=2025.3.0,>=2023.1.0->datasets) (6.4.3)\n",
            "Requirement already satisfied: propcache>=0.2.0 in /usr/local/lib/python3.11/dist-packages (from aiohttp!=4.0.0a0,!=4.0.0a1->fsspec[http]<=2025.3.0,>=2023.1.0->datasets) (0.3.1)\n",
            "Requirement already satisfied: yarl<2.0,>=1.17.0 in /usr/local/lib/python3.11/dist-packages (from aiohttp!=4.0.0a0,!=4.0.0a1->fsspec[http]<=2025.3.0,>=2023.1.0->datasets) (1.20.0)\n",
            "Requirement already satisfied: six>=1.5 in /usr/local/lib/python3.11/dist-packages (from python-dateutil>=2.8.2->pandas->datasets) (1.17.0)\n",
            "Requirement already satisfied: torchtext==0.17.0 in /usr/local/lib/python3.11/dist-packages (0.17.0)\n",
            "Requirement already satisfied: tqdm in /usr/local/lib/python3.11/dist-packages (from torchtext==0.17.0) (4.67.1)\n",
            "Requirement already satisfied: requests in /usr/local/lib/python3.11/dist-packages (from torchtext==0.17.0) (2.32.3)\n",
            "Requirement already satisfied: torch==2.2.0 in /usr/local/lib/python3.11/dist-packages (from torchtext==0.17.0) (2.2.0)\n",
            "Requirement already satisfied: numpy in /usr/local/lib/python3.11/dist-packages (from torchtext==0.17.0) (2.0.2)\n",
            "Requirement already satisfied: torchdata==0.7.1 in /usr/local/lib/python3.11/dist-packages (from torchtext==0.17.0) (0.7.1)\n",
            "Requirement already satisfied: filelock in /usr/local/lib/python3.11/dist-packages (from torch==2.2.0->torchtext==0.17.0) (3.18.0)\n",
            "Requirement already satisfied: typing-extensions>=4.8.0 in /usr/local/lib/python3.11/dist-packages (from torch==2.2.0->torchtext==0.17.0) (4.13.2)\n",
            "Requirement already satisfied: sympy in /usr/local/lib/python3.11/dist-packages (from torch==2.2.0->torchtext==0.17.0) (1.13.1)\n",
            "Requirement already satisfied: networkx in /usr/local/lib/python3.11/dist-packages (from torch==2.2.0->torchtext==0.17.0) (3.4.2)\n",
            "Requirement already satisfied: jinja2 in /usr/local/lib/python3.11/dist-packages (from torch==2.2.0->torchtext==0.17.0) (3.1.6)\n",
            "Requirement already satisfied: fsspec in /usr/local/lib/python3.11/dist-packages (from torch==2.2.0->torchtext==0.17.0) (2025.3.0)\n",
            "Requirement already satisfied: nvidia-cuda-nvrtc-cu12==12.1.105 in /usr/local/lib/python3.11/dist-packages (from torch==2.2.0->torchtext==0.17.0) (12.1.105)\n",
            "Requirement already satisfied: nvidia-cuda-runtime-cu12==12.1.105 in /usr/local/lib/python3.11/dist-packages (from torch==2.2.0->torchtext==0.17.0) (12.1.105)\n",
            "Requirement already satisfied: nvidia-cuda-cupti-cu12==12.1.105 in /usr/local/lib/python3.11/dist-packages (from torch==2.2.0->torchtext==0.17.0) (12.1.105)\n",
            "Requirement already satisfied: nvidia-cudnn-cu12==8.9.2.26 in /usr/local/lib/python3.11/dist-packages (from torch==2.2.0->torchtext==0.17.0) (8.9.2.26)\n",
            "Requirement already satisfied: nvidia-cublas-cu12==12.1.3.1 in /usr/local/lib/python3.11/dist-packages (from torch==2.2.0->torchtext==0.17.0) (12.1.3.1)\n",
            "Requirement already satisfied: nvidia-cufft-cu12==11.0.2.54 in /usr/local/lib/python3.11/dist-packages (from torch==2.2.0->torchtext==0.17.0) (11.0.2.54)\n",
            "Requirement already satisfied: nvidia-curand-cu12==10.3.2.106 in /usr/local/lib/python3.11/dist-packages (from torch==2.2.0->torchtext==0.17.0) (10.3.2.106)\n",
            "Requirement already satisfied: nvidia-cusolver-cu12==11.4.5.107 in /usr/local/lib/python3.11/dist-packages (from torch==2.2.0->torchtext==0.17.0) (11.4.5.107)\n",
            "Requirement already satisfied: nvidia-cusparse-cu12==12.1.0.106 in /usr/local/lib/python3.11/dist-packages (from torch==2.2.0->torchtext==0.17.0) (12.1.0.106)\n",
            "Requirement already satisfied: nvidia-nccl-cu12==2.19.3 in /usr/local/lib/python3.11/dist-packages (from torch==2.2.0->torchtext==0.17.0) (2.19.3)\n",
            "Requirement already satisfied: nvidia-nvtx-cu12==12.1.105 in /usr/local/lib/python3.11/dist-packages (from torch==2.2.0->torchtext==0.17.0) (12.1.105)\n",
            "Requirement already satisfied: triton==2.2.0 in /usr/local/lib/python3.11/dist-packages (from torch==2.2.0->torchtext==0.17.0) (2.2.0)\n",
            "Requirement already satisfied: urllib3>=1.25 in /usr/local/lib/python3.11/dist-packages (from torchdata==0.7.1->torchtext==0.17.0) (2.4.0)\n",
            "Requirement already satisfied: nvidia-nvjitlink-cu12 in /usr/local/lib/python3.11/dist-packages (from nvidia-cusolver-cu12==11.4.5.107->torch==2.2.0->torchtext==0.17.0) (12.5.82)\n",
            "Requirement already satisfied: charset-normalizer<4,>=2 in /usr/local/lib/python3.11/dist-packages (from requests->torchtext==0.17.0) (3.4.1)\n",
            "Requirement already satisfied: idna<4,>=2.5 in /usr/local/lib/python3.11/dist-packages (from requests->torchtext==0.17.0) (3.10)\n",
            "Requirement already satisfied: certifi>=2017.4.17 in /usr/local/lib/python3.11/dist-packages (from requests->torchtext==0.17.0) (2025.4.26)\n",
            "Requirement already satisfied: MarkupSafe>=2.0 in /usr/local/lib/python3.11/dist-packages (from jinja2->torch==2.2.0->torchtext==0.17.0) (3.0.2)\n",
            "Requirement already satisfied: mpmath<1.4,>=1.1.0 in /usr/local/lib/python3.11/dist-packages (from sympy->torch==2.2.0->torchtext==0.17.0) (1.3.0)\n"
          ]
        }
      ],
      "source": [
        "#Additional packages must either be installed or modified otherwise specific\n",
        "#components like GloVe embedding will not work\n",
        "!pip install datasets\n",
        "!pip install -U torchtext==0.17.0"
      ]
    },
    {
      "cell_type": "markdown",
      "source": [
        "Initial Imports"
      ],
      "metadata": {
        "id": "ROODRnZOvkuA"
      }
    },
    {
      "cell_type": "code",
      "source": [
        "import torch\n",
        "import torch.nn as nn\n",
        "import torch.optim as optim\n",
        "import numpy as np\n",
        "import tqdm\n",
        "import collections\n",
        "import datasets\n",
        "import torchtext\n",
        "\n",
        "import matplotlib.pyplot as plt"
      ],
      "metadata": {
        "id": "Upu0qwfYvXPT"
      },
      "execution_count": 33,
      "outputs": []
    },
    {
      "cell_type": "markdown",
      "source": [
        "Hyperparameters"
      ],
      "metadata": {
        "id": "t696ADbXvi2C"
      }
    },
    {
      "cell_type": "code",
      "source": [
        "seed = 1234\n",
        "testSize = 0.25\n",
        "maxLength = 256\n",
        "batchSize = 512\n",
        "minFreq = 5\n",
        "dropoutRate = 0.2\n",
        "nEpochs = 20"
      ],
      "metadata": {
        "id": "pYK7NL66vgfU"
      },
      "execution_count": 34,
      "outputs": []
    },
    {
      "cell_type": "code",
      "source": [
        "#Code for seed that affects random word generation\n",
        "np.random.seed(seed)\n",
        "torch.manual_seed(seed)\n",
        "torch.cuda.manual_seed(seed)\n",
        "torch.backends.cudnn.deterministic = True\n",
        "\n",
        "\n",
        "#Importing train and testing data\n",
        "trainData, testData = datasets.load_dataset(\"imdb\", split=[\"train\", \"test\"])\n",
        "#Alternate code for financial dataset\n",
        "#train_data, test_data = datasets.load_dataset(\"zeroshot/twitter-financial-news-sentiment\", split=[\"train\", \"validation\"])\n",
        "tokenizer = torchtext.data.utils.get_tokenizer(\"basic_english\")"
      ],
      "metadata": {
        "id": "hfjPCD5uvv9z"
      },
      "execution_count": 35,
      "outputs": []
    },
    {
      "cell_type": "code",
      "source": [
        "#Better variation to one on one filtering, translates a string into mutiple tokens, seperates special characters too\n",
        "def tokenizeSentences(sentences, tokenizer, maxLength):\n",
        "    tokens = tokenizer(sentences[\"text\"])[:maxLength]\n",
        "    return {\"tokens\": tokens}\n",
        "\n",
        "\n",
        "#Old filtering code, loops through sentence and replaces anything it sees before splitting\n",
        "\"\"\"\n",
        "def filterSentences(sentence):\n",
        "    sentence = sentence.replace(\".\", \" . \") \\\n",
        "                 .replace(\"it's\", \"it is\") \\\n",
        "                 .replace(\"haven't\", \"have not\") \\\n",
        "                 .replace(\"don't\", \"do not\") \\\n",
        "                 .replace(\"didn't\", \"did not\") \\\n",
        "                 .replace(\"you've\", \"you have\") \\\n",
        "                 .replace(\"I'll\", \"I will\") \\\n",
        "                 .replace(\"I'm\", \"I am\") \\\n",
        "                 .replace(\"wouldn't\", \"would not\") \\\n",
        "                 .replace(\"doesn't\", \"does not\") \\\n",
        "                 .replace(\"there's\", \"there is\") \\\n",
        "                 .replace(\"that's\", \"that is\") \\\n",
        "                 .replace(\"can't\", \"can not\") \\\n",
        "                 .replace(\"I've\", \"I have\") \\\n",
        "                 .replace(\"he's\", \"he is\") \\\n",
        "                 .replace(\"couldn't\", \"could not\") \\\n",
        "                 .replace(\"shouldn't\", \"should not\") \\\n",
        "                 .replace(\"wasn't\", \"was not\") \\\n",
        "                 .replace(\"aren't\", \"are not\") \\\n",
        "                 .replace(\"you'll\", \"you will\") \\\n",
        "                 .replace(\"we're\", \"we are\") \\\n",
        "                 .replace(\"I'd\", \"I had\") \\\n",
        "                 .replace(\",\", \" , \") \\\n",
        "                 .replace(\";\", \" ; \") \\\n",
        "                 .replace(\":\", \" : \") \\\n",
        "                 .replace(\"(\", \" ( \") \\\n",
        "                 .replace(\")\", \" ) \") \\\n",
        "                 .replace(\"<br />\", \" \") \\\n",
        "                 .replace(\"'\", \" ' \") \\\n",
        "                 .replace(\"\\\"\", \" \\\" \") \\\n",
        "                 .replace(\"!\", \" ! \") \\\n",
        "                 .replace(\"?\", \" ? \")\n",
        "    return sentence.split()\n",
        "\"\"\""
      ],
      "metadata": {
        "colab": {
          "base_uri": "https://localhost:8080/",
          "height": 104
        },
        "id": "cRSXXyqZv7PC",
        "outputId": "c1ed3d9e-f4e5-4e31-cd76-81177a40b630"
      },
      "execution_count": 36,
      "outputs": [
        {
          "output_type": "execute_result",
          "data": {
            "text/plain": [
              "'\\ndef filterSentences(sentence):\\n    sentence = sentence.replace(\".\", \" . \")                  .replace(\"it\\'s\", \"it is\")                  .replace(\"haven\\'t\", \"have not\")                  .replace(\"don\\'t\", \"do not\")                  .replace(\"didn\\'t\", \"did not\")                  .replace(\"you\\'ve\", \"you have\")                  .replace(\"I\\'ll\", \"I will\")                  .replace(\"I\\'m\", \"I am\")                  .replace(\"wouldn\\'t\", \"would not\")                  .replace(\"doesn\\'t\", \"does not\")                  .replace(\"there\\'s\", \"there is\")                  .replace(\"that\\'s\", \"that is\")                  .replace(\"can\\'t\", \"can not\")                  .replace(\"I\\'ve\", \"I have\")                  .replace(\"he\\'s\", \"he is\")                  .replace(\"couldn\\'t\", \"could not\")                  .replace(\"shouldn\\'t\", \"should not\")                  .replace(\"wasn\\'t\", \"was not\")                  .replace(\"aren\\'t\", \"are not\")                  .replace(\"you\\'ll\", \"you will\")                  .replace(\"we\\'re\", \"we are\")                  .replace(\"I\\'d\", \"I had\")                  .replace(\",\", \" , \")                  .replace(\";\", \" ; \")                  .replace(\":\", \" : \")                  .replace(\"(\", \" ( \")                  .replace(\")\", \" ) \")                  .replace(\"<br />\", \" \")                  .replace(\"\\'\", \" \\' \")                  .replace(\"\"\", \" \" \")                  .replace(\"!\", \" ! \")                  .replace(\"?\", \" ? \")\\n    return sentence.split()\\n'"
            ],
            "application/vnd.google.colaboratory.intrinsic+json": {
              "type": "string"
            }
          },
          "metadata": {},
          "execution_count": 36
        }
      ]
    },
    {
      "cell_type": "code",
      "source": [
        "#Adds an additional section for the tokens\n",
        "\n",
        "trainData = trainData.map(tokenizeSentences, fn_kwargs={\"tokenizer\": tokenizer, \"maxLength\": maxLength})\n",
        "testData = testData.map(tokenizeSentences, fn_kwargs={\"tokenizer\": tokenizer, \"maxLength\": maxLength})\n",
        "\n",
        "#Split 1/4 of dataset for validation\n",
        "tempValidData = trainData.train_test_split(test_size=testSize)\n",
        "trainData = tempValidData[\"train\"]\n",
        "validData = tempValidData[\"test\"]\n",
        "\n",
        "specialTokens = [\"<unk>\", \"<pad>\"]\n",
        "\n",
        "vocab = torchtext.vocab.build_vocab_from_iterator(\n",
        "    trainData[\"tokens\"],\n",
        "    min_freq=5,\n",
        "    specials=specialTokens,\n",
        ")\n",
        "unkIndex = vocab[\"<unk>\"]\n",
        "padIndex = vocab[\"<pad>\"]\n",
        "vocab.set_default_index(unkIndex)"
      ],
      "metadata": {
        "id": "xfq2KK17xevx"
      },
      "execution_count": 37,
      "outputs": []
    },
    {
      "cell_type": "code",
      "source": [
        "#Give every value a numeric inditifier\n",
        "def numericalizeExample(example, vocab):\n",
        "    ids = vocab.lookup_indices(example[\"tokens\"])\n",
        "    return {\"ids\": ids}"
      ],
      "metadata": {
        "id": "sa8V9LYByh5f"
      },
      "execution_count": 38,
      "outputs": []
    },
    {
      "cell_type": "code",
      "source": [
        "trainData = trainData.map(numericalizeExample, fn_kwargs={\"vocab\": vocab})\n",
        "validData = validData.map(numericalizeExample, fn_kwargs={\"vocab\": vocab})\n",
        "testData = testData.map(numericalizeExample, fn_kwargs={\"vocab\": vocab})\n",
        "\n",
        "trainData = trainData.with_format(type=\"torch\", columns=[\"ids\", \"label\"])\n",
        "validData = validData.with_format(type=\"torch\", columns=[\"ids\", \"label\"])\n",
        "testData = testData.with_format(type=\"torch\", columns=[\"ids\", \"label\"])"
      ],
      "metadata": {
        "id": "A6j9RaIQynHM"
      },
      "execution_count": 39,
      "outputs": []
    },
    {
      "cell_type": "code",
      "source": [
        "def getCollateFn(padIndex):\n",
        "    def collateFn(batch):\n",
        "        batchIds = [i[\"ids\"] for i in batch]\n",
        "        batchIds = nn.utils.rnn.pad_sequence(\n",
        "            batchIds, padding_value=padIndex, batch_first=True\n",
        "        )\n",
        "        batchLabel = [i[\"label\"] for i in batch]\n",
        "        batchLabel = torch.stack(batchLabel)\n",
        "        batch = {\"ids\": batchIds, \"label\": batchLabel}\n",
        "        return batch\n",
        "\n",
        "    return collateFn\n",
        "\n",
        "def getDataLoader(dataset, batchSize, padIndex, shuffle=False):\n",
        "    collateFn = getCollateFn(padIndex)\n",
        "    dataLoader = torch.utils.data.DataLoader(\n",
        "        dataset=dataset,\n",
        "        batch_size=batchSize,\n",
        "        collate_fn=collateFn,\n",
        "        shuffle=shuffle,\n",
        "    )\n",
        "    return dataLoader"
      ],
      "metadata": {
        "id": "l0VF00Fby3Wv"
      },
      "execution_count": 40,
      "outputs": []
    },
    {
      "cell_type": "code",
      "source": [
        "trainDataLoader = getDataLoader(trainData, batchSize, padIndex, shuffle=True)\n",
        "validDataLoader = getDataLoader(validData, batchSize, padIndex)\n",
        "testDataLoader = getDataLoader(testData, batchSize, padIndex)"
      ],
      "metadata": {
        "id": "tKxLseSRzaXV"
      },
      "execution_count": 41,
      "outputs": []
    },
    {
      "cell_type": "code",
      "source": [
        "class CNN(nn.Module):\n",
        "    def __init__(\n",
        "        self,\n",
        "        vocab_size,\n",
        "        embedding_dim,\n",
        "        n_filters,\n",
        "        filter_sizes,\n",
        "        output_dim,\n",
        "        dropout_rate,\n",
        "        pad_index,\n",
        "    ):\n",
        "        super().__init__()\n",
        "        self.embedding = nn.Embedding(vocab_size, embedding_dim, padding_idx=pad_index)\n",
        "        self.convs = nn.ModuleList(\n",
        "            [\n",
        "                nn.Conv1d(embedding_dim, n_filters, filter_size)\n",
        "                for filter_size in filter_sizes\n",
        "            ]\n",
        "        )\n",
        "        self.fc = nn.Linear(len(filter_sizes) * n_filters, output_dim)\n",
        "        self.dropout = nn.Dropout(dropout_rate)\n",
        "\n",
        "    def forward(self, ids):\n",
        "        embedded = self.dropout(self.embedding(ids))\n",
        "        embedded = embedded.permute(0, 2, 1)\n",
        "        conved = [torch.relu(conv(embedded)) for conv in self.convs]\n",
        "        pooled = [conv.max(dim=-1).values for conv in conved]\n",
        "        cat = self.dropout(torch.cat(pooled, dim=-1))\n",
        "        prediction = self.fc(cat)\n",
        "        return prediction"
      ],
      "metadata": {
        "id": "PvvflLQlzmYt"
      },
      "execution_count": 42,
      "outputs": []
    },
    {
      "cell_type": "code",
      "source": [
        "def initializeWeights(m):\n",
        "    if isinstance(m, nn.Linear):\n",
        "        nn.init.xavier_normal_(m.weight)\n",
        "        nn.init.zeros_(m.bias)\n",
        "    elif isinstance(m, nn.Conv1d):\n",
        "        nn.init.kaiming_normal_(m.weight, nonlinearity=\"relu\")\n",
        "        nn.init.zeros_(m.bias)"
      ],
      "metadata": {
        "id": "qIFA0-NMz7yk"
      },
      "execution_count": 43,
      "outputs": []
    },
    {
      "cell_type": "code",
      "source": [
        "vocabSize = len(vocab)\n",
        "embeddingDim = 300\n",
        "nFilters = 100\n",
        "filterSizes = [3, 5, 7]\n",
        "outputDim = len(trainData.unique(\"label\"))\n",
        "\n",
        "model = CNN(\n",
        "    vocabSize,\n",
        "    embeddingDim,\n",
        "    nFilters,\n",
        "    filterSizes,\n",
        "    outputDim,\n",
        "    dropoutRate,\n",
        "    padIndex,\n",
        ")\n",
        "\n",
        "model.apply(initializeWeights)"
      ],
      "metadata": {
        "colab": {
          "base_uri": "https://localhost:8080/"
        },
        "id": "WGATdrvDzueX",
        "outputId": "8a56aac5-69df-4fa1-e7c3-9c59da70fbc7"
      },
      "execution_count": 44,
      "outputs": [
        {
          "output_type": "execute_result",
          "data": {
            "text/plain": [
              "CNN(\n",
              "  (embedding): Embedding(21635, 300, padding_idx=1)\n",
              "  (convs): ModuleList(\n",
              "    (0): Conv1d(300, 100, kernel_size=(3,), stride=(1,))\n",
              "    (1): Conv1d(300, 100, kernel_size=(5,), stride=(1,))\n",
              "    (2): Conv1d(300, 100, kernel_size=(7,), stride=(1,))\n",
              "  )\n",
              "  (fc): Linear(in_features=300, out_features=2, bias=True)\n",
              "  (dropout): Dropout(p=0.2, inplace=False)\n",
              ")"
            ]
          },
          "metadata": {},
          "execution_count": 44
        }
      ]
    },
    {
      "cell_type": "code",
      "source": [
        "#Code section for Glove Embedding\n",
        "vectors = torchtext.vocab.GloVe()\n",
        "pretrainedEmbedding = vectors.get_vecs_by_tokens(vocab.get_itos())\n",
        "model.embedding.weight.data = pretrainedEmbedding\n",
        "\n",
        "optimizer = optim.Adam(model.parameters())\n",
        "criterion = nn.CrossEntropyLoss()\n",
        "device = torch.device(\"cuda\" if torch.cuda.is_available() else \"cpu\")\n",
        "\n",
        "model = model.to(device)\n",
        "criterion = criterion.to(device)"
      ],
      "metadata": {
        "id": "oMuPzzuhz2a3"
      },
      "execution_count": 45,
      "outputs": []
    },
    {
      "cell_type": "code",
      "source": [
        "def train(data_loader, model, criterion, optimizer, device):\n",
        "    model.train()\n",
        "    epoch_losses = []\n",
        "    epoch_accs = []\n",
        "    for batch in tqdm.tqdm(data_loader, desc=\"training...\"):\n",
        "        ids = batch[\"ids\"].to(device)\n",
        "        label = batch[\"label\"].to(device)\n",
        "        prediction = model(ids)\n",
        "        loss = criterion(prediction, label)\n",
        "        accuracy = get_accuracy(prediction, label)\n",
        "        optimizer.zero_grad()\n",
        "        loss.backward()\n",
        "        optimizer.step()\n",
        "        epoch_losses.append(loss.item())\n",
        "        epoch_accs.append(accuracy.item())\n",
        "    return np.mean(epoch_losses), np.mean(epoch_accs)\n",
        "\n",
        "\n",
        "def evaluate(data_loader, model, criterion, device):\n",
        "    model.eval()\n",
        "    epoch_losses = []\n",
        "    epoch_accs = []\n",
        "    with torch.no_grad():\n",
        "        for batch in tqdm.tqdm(data_loader, desc=\"evaluating...\"):\n",
        "            ids = batch[\"ids\"].to(device)\n",
        "            label = batch[\"label\"].to(device)\n",
        "            prediction = model(ids)\n",
        "            loss = criterion(prediction, label)\n",
        "            accuracy = get_accuracy(prediction, label)\n",
        "            epoch_losses.append(loss.item())\n",
        "            epoch_accs.append(accuracy.item())\n",
        "    return np.mean(epoch_losses), np.mean(epoch_accs)\n",
        "\n",
        "def get_accuracy(prediction, label):\n",
        "    batch_size, _ = prediction.shape\n",
        "    predicted_classes = prediction.argmax(dim=-1)\n",
        "    correct_predictions = predicted_classes.eq(label).sum()\n",
        "    accuracy = correct_predictions / batch_size\n",
        "    return accuracy"
      ],
      "metadata": {
        "id": "K3hPGkFf0aVu"
      },
      "execution_count": 46,
      "outputs": []
    },
    {
      "cell_type": "code",
      "source": [
        "best_valid_loss = float(\"inf\")\n",
        "\n",
        "metrics = collections.defaultdict(list)\n",
        "\n",
        "for epoch in range(nEpochs):\n",
        "    train_loss, train_acc = train(\n",
        "        trainDataLoader, model, criterion, optimizer, device\n",
        "    )\n",
        "    valid_loss, valid_acc = evaluate(validDataLoader, model, criterion, device)\n",
        "    metrics[\"train_losses\"].append(train_loss)\n",
        "    metrics[\"train_accs\"].append(train_acc)\n",
        "    metrics[\"valid_losses\"].append(valid_loss)\n",
        "    metrics[\"valid_accs\"].append(valid_acc)\n",
        "    if valid_loss < best_valid_loss:\n",
        "        best_valid_loss = valid_loss\n",
        "        torch.save(model.state_dict(), \"cnn.pt\")\n",
        "    print(f\"epoch: {epoch}\")\n",
        "    print(f\"train_loss: {train_loss:.3f}, train_acc: {train_acc:.3f}\")\n",
        "    print(f\"valid_loss: {valid_loss:.3f}, valid_acc: {valid_acc:.3f}\")"
      ],
      "metadata": {
        "colab": {
          "base_uri": "https://localhost:8080/"
        },
        "id": "PJEaKFzC0hpz",
        "outputId": "d8130a44-8320-4848-d313-dcfcd6cb6df9"
      },
      "execution_count": 47,
      "outputs": [
        {
          "output_type": "stream",
          "name": "stderr",
          "text": [
            "training...: 100%|██████████| 37/37 [00:06<00:00,  5.37it/s]\n",
            "evaluating...: 100%|██████████| 13/13 [00:00<00:00, 15.78it/s]\n"
          ]
        },
        {
          "output_type": "stream",
          "name": "stdout",
          "text": [
            "epoch: 0\n",
            "train_loss: 0.754, train_acc: 0.623\n",
            "valid_loss: 0.442, valid_acc: 0.793\n"
          ]
        },
        {
          "output_type": "stream",
          "name": "stderr",
          "text": [
            "training...: 100%|██████████| 37/37 [00:06<00:00,  5.80it/s]\n",
            "evaluating...: 100%|██████████| 13/13 [00:00<00:00, 13.15it/s]\n"
          ]
        },
        {
          "output_type": "stream",
          "name": "stdout",
          "text": [
            "epoch: 1\n",
            "train_loss: 0.444, train_acc: 0.796\n",
            "valid_loss: 0.332, valid_acc: 0.858\n"
          ]
        },
        {
          "output_type": "stream",
          "name": "stderr",
          "text": [
            "training...: 100%|██████████| 37/37 [00:06<00:00,  5.91it/s]\n",
            "evaluating...: 100%|██████████| 13/13 [00:00<00:00, 16.72it/s]\n"
          ]
        },
        {
          "output_type": "stream",
          "name": "stdout",
          "text": [
            "epoch: 2\n",
            "train_loss: 0.344, train_acc: 0.851\n",
            "valid_loss: 0.307, valid_acc: 0.870\n"
          ]
        },
        {
          "output_type": "stream",
          "name": "stderr",
          "text": [
            "training...: 100%|██████████| 37/37 [00:06<00:00,  5.73it/s]\n",
            "evaluating...: 100%|██████████| 13/13 [00:00<00:00, 13.44it/s]\n"
          ]
        },
        {
          "output_type": "stream",
          "name": "stdout",
          "text": [
            "epoch: 3\n",
            "train_loss: 0.285, train_acc: 0.882\n",
            "valid_loss: 0.293, valid_acc: 0.877\n"
          ]
        },
        {
          "output_type": "stream",
          "name": "stderr",
          "text": [
            "training...: 100%|██████████| 37/37 [00:06<00:00,  5.83it/s]\n",
            "evaluating...: 100%|██████████| 13/13 [00:00<00:00, 16.67it/s]\n"
          ]
        },
        {
          "output_type": "stream",
          "name": "stdout",
          "text": [
            "epoch: 4\n",
            "train_loss: 0.247, train_acc: 0.898\n",
            "valid_loss: 0.285, valid_acc: 0.884\n"
          ]
        },
        {
          "output_type": "stream",
          "name": "stderr",
          "text": [
            "training...: 100%|██████████| 37/37 [00:06<00:00,  5.71it/s]\n",
            "evaluating...: 100%|██████████| 13/13 [00:00<00:00, 17.54it/s]\n"
          ]
        },
        {
          "output_type": "stream",
          "name": "stdout",
          "text": [
            "epoch: 5\n",
            "train_loss: 0.202, train_acc: 0.921\n",
            "valid_loss: 0.280, valid_acc: 0.889\n"
          ]
        },
        {
          "output_type": "stream",
          "name": "stderr",
          "text": [
            "training...: 100%|██████████| 37/37 [00:06<00:00,  5.90it/s]\n",
            "evaluating...: 100%|██████████| 13/13 [00:00<00:00, 13.04it/s]\n"
          ]
        },
        {
          "output_type": "stream",
          "name": "stdout",
          "text": [
            "epoch: 6\n",
            "train_loss: 0.170, train_acc: 0.937\n",
            "valid_loss: 0.287, valid_acc: 0.887\n"
          ]
        },
        {
          "output_type": "stream",
          "name": "stderr",
          "text": [
            "training...: 100%|██████████| 37/37 [00:06<00:00,  5.54it/s]\n",
            "evaluating...: 100%|██████████| 13/13 [00:00<00:00, 16.88it/s]\n"
          ]
        },
        {
          "output_type": "stream",
          "name": "stdout",
          "text": [
            "epoch: 7\n",
            "train_loss: 0.137, train_acc: 0.951\n",
            "valid_loss: 0.281, valid_acc: 0.892\n"
          ]
        },
        {
          "output_type": "stream",
          "name": "stderr",
          "text": [
            "training...: 100%|██████████| 37/37 [00:06<00:00,  5.72it/s]\n",
            "evaluating...: 100%|██████████| 13/13 [00:00<00:00, 16.06it/s]\n"
          ]
        },
        {
          "output_type": "stream",
          "name": "stdout",
          "text": [
            "epoch: 8\n",
            "train_loss: 0.110, train_acc: 0.964\n",
            "valid_loss: 0.280, valid_acc: 0.894\n"
          ]
        },
        {
          "output_type": "stream",
          "name": "stderr",
          "text": [
            "training...: 100%|██████████| 37/37 [00:06<00:00,  5.90it/s]\n",
            "evaluating...: 100%|██████████| 13/13 [00:00<00:00, 17.17it/s]\n"
          ]
        },
        {
          "output_type": "stream",
          "name": "stdout",
          "text": [
            "epoch: 9\n",
            "train_loss: 0.090, train_acc: 0.974\n",
            "valid_loss: 0.290, valid_acc: 0.892\n"
          ]
        },
        {
          "output_type": "stream",
          "name": "stderr",
          "text": [
            "training...: 100%|██████████| 37/37 [00:06<00:00,  5.75it/s]\n",
            "evaluating...: 100%|██████████| 13/13 [00:00<00:00, 17.26it/s]\n"
          ]
        },
        {
          "output_type": "stream",
          "name": "stdout",
          "text": [
            "epoch: 10\n",
            "train_loss: 0.071, train_acc: 0.981\n",
            "valid_loss: 0.293, valid_acc: 0.892\n"
          ]
        },
        {
          "output_type": "stream",
          "name": "stderr",
          "text": [
            "training...: 100%|██████████| 37/37 [00:06<00:00,  5.85it/s]\n",
            "evaluating...: 100%|██████████| 13/13 [00:01<00:00, 12.74it/s]\n"
          ]
        },
        {
          "output_type": "stream",
          "name": "stdout",
          "text": [
            "epoch: 11\n",
            "train_loss: 0.056, train_acc: 0.987\n",
            "valid_loss: 0.300, valid_acc: 0.892\n"
          ]
        },
        {
          "output_type": "stream",
          "name": "stderr",
          "text": [
            "training...: 100%|██████████| 37/37 [00:06<00:00,  5.81it/s]\n",
            "evaluating...: 100%|██████████| 13/13 [00:00<00:00, 17.11it/s]\n"
          ]
        },
        {
          "output_type": "stream",
          "name": "stdout",
          "text": [
            "epoch: 12\n",
            "train_loss: 0.046, train_acc: 0.991\n",
            "valid_loss: 0.308, valid_acc: 0.891\n"
          ]
        },
        {
          "output_type": "stream",
          "name": "stderr",
          "text": [
            "training...: 100%|██████████| 37/37 [00:06<00:00,  5.49it/s]\n",
            "evaluating...: 100%|██████████| 13/13 [00:00<00:00, 15.29it/s]\n"
          ]
        },
        {
          "output_type": "stream",
          "name": "stdout",
          "text": [
            "epoch: 13\n",
            "train_loss: 0.035, train_acc: 0.993\n",
            "valid_loss: 0.317, valid_acc: 0.890\n"
          ]
        },
        {
          "output_type": "stream",
          "name": "stderr",
          "text": [
            "training...: 100%|██████████| 37/37 [00:06<00:00,  5.85it/s]\n",
            "evaluating...: 100%|██████████| 13/13 [00:00<00:00, 16.92it/s]\n"
          ]
        },
        {
          "output_type": "stream",
          "name": "stdout",
          "text": [
            "epoch: 14\n",
            "train_loss: 0.031, train_acc: 0.994\n",
            "valid_loss: 0.326, valid_acc: 0.891\n"
          ]
        },
        {
          "output_type": "stream",
          "name": "stderr",
          "text": [
            "training...: 100%|██████████| 37/37 [00:06<00:00,  5.68it/s]\n",
            "evaluating...: 100%|██████████| 13/13 [00:00<00:00, 16.47it/s]\n"
          ]
        },
        {
          "output_type": "stream",
          "name": "stdout",
          "text": [
            "epoch: 15\n",
            "train_loss: 0.024, train_acc: 0.996\n",
            "valid_loss: 0.334, valid_acc: 0.893\n"
          ]
        },
        {
          "output_type": "stream",
          "name": "stderr",
          "text": [
            "training...: 100%|██████████| 37/37 [00:06<00:00,  5.91it/s]\n",
            "evaluating...: 100%|██████████| 13/13 [00:00<00:00, 16.82it/s]\n"
          ]
        },
        {
          "output_type": "stream",
          "name": "stdout",
          "text": [
            "epoch: 16\n",
            "train_loss: 0.021, train_acc: 0.997\n",
            "valid_loss: 0.340, valid_acc: 0.893\n"
          ]
        },
        {
          "output_type": "stream",
          "name": "stderr",
          "text": [
            "training...: 100%|██████████| 37/37 [00:06<00:00,  5.70it/s]\n",
            "evaluating...: 100%|██████████| 13/13 [00:00<00:00, 16.73it/s]\n"
          ]
        },
        {
          "output_type": "stream",
          "name": "stdout",
          "text": [
            "epoch: 17\n",
            "train_loss: 0.018, train_acc: 0.998\n",
            "valid_loss: 0.358, valid_acc: 0.890\n"
          ]
        },
        {
          "output_type": "stream",
          "name": "stderr",
          "text": [
            "training...: 100%|██████████| 37/37 [00:06<00:00,  5.79it/s]\n",
            "evaluating...: 100%|██████████| 13/13 [00:00<00:00, 14.06it/s]\n"
          ]
        },
        {
          "output_type": "stream",
          "name": "stdout",
          "text": [
            "epoch: 18\n",
            "train_loss: 0.015, train_acc: 0.998\n",
            "valid_loss: 0.365, valid_acc: 0.889\n"
          ]
        },
        {
          "output_type": "stream",
          "name": "stderr",
          "text": [
            "training...: 100%|██████████| 37/37 [00:06<00:00,  5.97it/s]\n",
            "evaluating...: 100%|██████████| 13/13 [00:00<00:00, 18.06it/s]"
          ]
        },
        {
          "output_type": "stream",
          "name": "stdout",
          "text": [
            "epoch: 19\n",
            "train_loss: 0.012, train_acc: 0.999\n",
            "valid_loss: 0.368, valid_acc: 0.893\n"
          ]
        },
        {
          "output_type": "stream",
          "name": "stderr",
          "text": [
            "\n"
          ]
        }
      ]
    },
    {
      "cell_type": "code",
      "source": [
        "#Code for printing graphs for analysis\n",
        "\n",
        "fig = plt.figure(figsize=(10, 6))\n",
        "ax = fig.add_subplot(1, 1, 1)\n",
        "ax.plot(metrics[\"train_accs\"], label=\"train accuracy\")\n",
        "ax.plot(metrics[\"valid_accs\"], label=\"valid accuracy\")\n",
        "ax.set_xlabel(\"epoch\")\n",
        "ax.set_ylabel(\"loss\")\n",
        "ax.set_xticks(range(nEpochs))\n",
        "ax.legend()\n",
        "ax.grid()\n",
        "\n",
        "fig = plt.figure(figsize=(10, 6))\n",
        "ax = fig.add_subplot(1, 1, 1)\n",
        "ax.plot(metrics[\"train_losses\"], label=\"train loss\")\n",
        "ax.plot(metrics[\"valid_losses\"], label=\"valid loss\")\n",
        "ax.set_xlabel(\"epoch\")\n",
        "ax.set_ylabel(\"loss\")\n",
        "ax.set_xticks(range(nEpochs))\n",
        "ax.legend()\n",
        "ax.grid()"
      ],
      "metadata": {
        "colab": {
          "base_uri": "https://localhost:8080/",
          "height": 1000
        },
        "id": "vOTG0efj0l__",
        "outputId": "8bc41406-f035-48df-dec8-b277288dd542"
      },
      "execution_count": 48,
      "outputs": [
        {
          "output_type": "display_data",
          "data": {
            "text/plain": [
              "<Figure size 1000x600 with 1 Axes>"
            ],
            "image/png": "[encoded data removed]"
          },
          "metadata": {}
        },
        {
          "output_type": "display_data",
          "data": {
            "text/plain": [
              "<Figure size 1000x600 with 1 Axes>"
            ],
            "image/png": "[encoded data removed]"
          },
          "metadata": {}
        }
      ]
    },
    {
      "cell_type": "code",
      "source": [
        "model.load_state_dict(torch.load(\"cnn.pt\"))\n",
        "\n",
        "test_loss, test_acc = evaluate(testDataLoader, model, criterion, device)\n",
        "print(f\"test_loss: {test_loss:.3f}, test_acc: {test_acc:.3f}\")"
      ],
      "metadata": {
        "colab": {
          "base_uri": "https://localhost:8080/"
        },
        "collapsed": true,
        "id": "8zKTqlZC0xu2",
        "outputId": "3688f027-e536-46c7-e91f-b012623441e6"
      },
      "execution_count": 49,
      "outputs": [
        {
          "output_type": "stream",
          "name": "stderr",
          "text": [
            "evaluating...: 100%|██████████| 49/49 [00:03<00:00, 14.22it/s]"
          ]
        },
        {
          "output_type": "stream",
          "name": "stdout",
          "text": [
            "test_loss: 0.301, test_acc: 0.879\n"
          ]
        },
        {
          "output_type": "stream",
          "name": "stderr",
          "text": [
            "\n"
          ]
        }
      ]
    }
  ]
}